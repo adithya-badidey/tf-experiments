{
 "cells": [
  {
   "cell_type": "code",
   "execution_count": 20,
   "metadata": {},
   "outputs": [
    {
     "name": "stdout",
     "output_type": "stream",
     "text": [
      "TensorFlow Versions:  2.7.0\n",
      "TensorFlow **IS** using the GPU\n"
     ]
    }
   ],
   "source": [
    "import tensorflow as tf\n",
    "import numpy as np\n",
    "import matplotlib.pyplot as plt\n",
    "import seaborn as sns\n",
    "import os\n",
    "import pathlib\n",
    "import shutil\n",
    "import string\n",
    "import re\n",
    "\n",
    "# Making sure tensorflow is working properly\n",
    "print(\"TensorFlow Versions: \", tf.__version__)\n",
    "if tf.config.list_physical_devices('GPU'):\n",
    "  print(\"TensorFlow **IS** using the GPU\")\n",
    "else:\n",
    "  print(\"TensorFlow **IS NOT** using the GPU\")\n",
    "\n",
    "# This prevents some error messages caused by reaching memory limits\n",
    "gpus = tf.config.experimental.list_physical_devices('GPU')\n",
    "for gpu in gpus:\n",
    "    tf.config.experimental.set_memory_growth(gpu, True)\n"
   ]
  },
  {
   "cell_type": "code",
   "execution_count": 21,
   "metadata": {},
   "outputs": [
    {
     "name": "stdout",
     "output_type": "stream",
     "text": [
      "Found the 'aclImdb' dataset.\n"
     ]
    }
   ],
   "source": [
    "data_dir = pathlib.Path('/home/addy/.keras/datasets')/'aclImdb'\n",
    "\n",
    "if data_dir.exists():\n",
    "    print(\"Found the 'aclImdb' dataset.\")\n",
    "\n",
    "else:\n",
    "    print(\"Downloading 'aclImdb' dataset.\")\n",
    "    \n",
    "    url = \"https://ai.stanford.edu/~amaas/data/sentiment/aclImdb_v1.tar.gz\"\n",
    "    dataset = tf.keras.utils.get_file(\"aclImdb_v1\", url,\n",
    "                                        untar=True)\n",
    "\n",
    "    data_dir = os.path.join(os.path.dirname(dataset), 'aclImdb')\n",
    "    \n",
    "    unsup = data_dir/ 'train' / 'unsup'\n",
    "    if unsup.exists():\n",
    "        print(\"Deleting unsupervised texts.\")\n",
    "        shutil.rmtree(unsup)\n"
   ]
  },
  {
   "cell_type": "code",
   "execution_count": 3,
   "metadata": {},
   "outputs": [],
   "source": [
    "# Initializing parameters\n",
    "\n",
    "batch_size = 64     # Reduce this if you get memory errors\n",
    "\n",
    "seed = 2476          # A random seed to get replicable results\n",
    "\n",
    "epochs = 10         # The number of training epochs"
   ]
  },
  {
   "cell_type": "code",
   "execution_count": 4,
   "metadata": {},
   "outputs": [
    {
     "name": "stdout",
     "output_type": "stream",
     "text": [
      "Found 25000 files belonging to 2 classes.\n",
      "Using 20000 files for training.\n"
     ]
    },
    {
     "name": "stderr",
     "output_type": "stream",
     "text": [
      "2022-01-02 14:16:31.980941: I tensorflow/core/platform/cpu_feature_guard.cc:151] This TensorFlow binary is optimized with oneAPI Deep Neural Network Library (oneDNN) to use the following CPU instructions in performance-critical operations:  AVX2 FMA\n",
      "To enable them in other operations, rebuild TensorFlow with the appropriate compiler flags.\n",
      "2022-01-02 14:16:32.394364: I tensorflow/core/common_runtime/gpu/gpu_device.cc:1525] Created device /job:localhost/replica:0/task:0/device:GPU:0 with 3322 MB memory:  -> device: 0, name: NVIDIA GeForce GTX 1660 Ti, pci bus id: 0000:01:00.0, compute capability: 7.5\n"
     ]
    }
   ],
   "source": [
    "# Initializing the training dataset\n",
    "\n",
    "train_ds = tf.keras.utils.text_dataset_from_directory(\n",
    "  data_dir/'train',\n",
    "  validation_split=0.2,\n",
    "  subset=\"training\",\n",
    "  seed=seed,\n",
    "  batch_size=batch_size)\n"
   ]
  },
  {
   "cell_type": "code",
   "execution_count": 5,
   "metadata": {},
   "outputs": [
    {
     "name": "stdout",
     "output_type": "stream",
     "text": [
      "Found 25000 files belonging to 2 classes.\n",
      "Using 5000 files for validation.\n"
     ]
    }
   ],
   "source": [
    "# Initializing the validation dataset\n",
    "\n",
    "val_ds = tf.keras.utils.text_dataset_from_directory(\n",
    "  data_dir/'train',\n",
    "  validation_split=0.2,\n",
    "  subset=\"validation\",\n",
    "  seed=seed,\n",
    "  batch_size=batch_size)\n"
   ]
  },
  {
   "cell_type": "code",
   "execution_count": 6,
   "metadata": {},
   "outputs": [
    {
     "name": "stdout",
     "output_type": "stream",
     "text": [
      "Found 25000 files belonging to 2 classes.\n"
     ]
    }
   ],
   "source": [
    "test_ds = tf.keras.utils.text_dataset_from_directory(\n",
    "    data_dir/'test', \n",
    "    batch_size=batch_size)\n"
   ]
  },
  {
   "cell_type": "code",
   "execution_count": 7,
   "metadata": {},
   "outputs": [],
   "source": [
    "def custom_standardization(input_data):\n",
    "    lowercase = tf.strings.lower(input_data)\n",
    "    stripped_html = tf.strings.regex_replace(lowercase, '<br />', ' ')\n",
    "    return tf.strings.regex_replace(stripped_html,\n",
    "                                  '[%s]' % re.escape(string.punctuation),\n",
    "                                  '')\n",
    "\n",
    "max_features = 10000\n",
    "sequence_length = 250\n",
    "\n",
    "vectorize_layer = tf.keras.layers.TextVectorization(\n",
    "    standardize=custom_standardization,\n",
    "    max_tokens=max_features,\n",
    "    output_mode='int',\n",
    "    output_sequence_length=sequence_length)\n",
    "\n",
    "train_text = train_ds.map(lambda x, y: x)\n",
    "vectorize_layer.adapt(train_text)\n"
   ]
  },
  {
   "cell_type": "code",
   "execution_count": 10,
   "metadata": {},
   "outputs": [
    {
     "name": "stdout",
     "output_type": "stream",
     "text": [
      "Model: \"sequential_1\"\n",
      "_________________________________________________________________\n",
      " Layer (type)                Output Shape              Param #   \n",
      "=================================================================\n",
      " text_vectorization (TextVec  (None, 250)              0         \n",
      " torization)                                                     \n",
      "                                                                 \n",
      " embedding_1 (Embedding)     (None, 250, 64)           640000    \n",
      "                                                                 \n",
      " bidirectional_1 (Bidirectio  (None, 128)              66048     \n",
      " nal)                                                            \n",
      "                                                                 \n",
      " dropout_1 (Dropout)         (None, 128)               0         \n",
      "                                                                 \n",
      " dense_2 (Dense)             (None, 64)                8256      \n",
      "                                                                 \n",
      " dropout_2 (Dropout)         (None, 64)                0         \n",
      "                                                                 \n",
      " dense_3 (Dense)             (None, 1)                 65        \n",
      "                                                                 \n",
      "=================================================================\n",
      "Total params: 714,369\n",
      "Trainable params: 714,369\n",
      "Non-trainable params: 0\n",
      "_________________________________________________________________\n"
     ]
    }
   ],
   "source": [
    "embedding_dim = 64\n",
    "\n",
    "model = tf.keras.Sequential([\n",
    "    vectorize_layer,\n",
    "    tf.keras.layers.Embedding(\n",
    "        input_dim=len(vectorize_layer.get_vocabulary()),\n",
    "        output_dim=embedding_dim,\n",
    "        # Use masking to handle the variable sequence lengths\n",
    "        mask_zero=True),\n",
    "    tf.keras.layers.Bidirectional(tf.keras.layers.LSTM(embedding_dim)),\n",
    "    tf.keras.layers.Dropout(0.2),\n",
    "    tf.keras.layers.Dense(embedding_dim, activation='relu'),\n",
    "    tf.keras.layers.Dropout(0.5),\n",
    "    tf.keras.layers.Dense(1)])\n",
    "\n",
    "model.summary()\n"
   ]
  },
  {
   "cell_type": "code",
   "execution_count": 11,
   "metadata": {},
   "outputs": [
    {
     "name": "stdout",
     "output_type": "stream",
     "text": [
      "Epoch 1/10\n",
      "313/313 [==============================] - 13s 28ms/step - loss: 0.6908 - binary_accuracy: 0.5372 - val_loss: 0.6592 - val_binary_accuracy: 0.6460\n",
      "Epoch 2/10\n",
      "313/313 [==============================] - 7s 22ms/step - loss: 0.4709 - binary_accuracy: 0.7966 - val_loss: 0.3782 - val_binary_accuracy: 0.8504\n",
      "Epoch 3/10\n",
      "313/313 [==============================] - 7s 23ms/step - loss: 0.3083 - binary_accuracy: 0.8845 - val_loss: 0.3359 - val_binary_accuracy: 0.8640\n",
      "Epoch 4/10\n",
      "313/313 [==============================] - 7s 22ms/step - loss: 0.2444 - binary_accuracy: 0.9105 - val_loss: 0.3256 - val_binary_accuracy: 0.8716\n",
      "Epoch 5/10\n",
      "313/313 [==============================] - 7s 23ms/step - loss: 0.2043 - binary_accuracy: 0.9290 - val_loss: 0.3284 - val_binary_accuracy: 0.8770\n",
      "Epoch 6/10\n",
      "313/313 [==============================] - 7s 22ms/step - loss: 0.1701 - binary_accuracy: 0.9425 - val_loss: 0.3281 - val_binary_accuracy: 0.8756\n",
      "Epoch 7/10\n",
      "313/313 [==============================] - 7s 23ms/step - loss: 0.1485 - binary_accuracy: 0.9524 - val_loss: 0.3706 - val_binary_accuracy: 0.8732\n",
      "Epoch 8/10\n",
      "313/313 [==============================] - 7s 22ms/step - loss: 0.1271 - binary_accuracy: 0.9602 - val_loss: 0.3696 - val_binary_accuracy: 0.8740\n",
      "Epoch 9/10\n",
      "313/313 [==============================] - 7s 22ms/step - loss: 0.1120 - binary_accuracy: 0.9650 - val_loss: 0.3978 - val_binary_accuracy: 0.8720\n",
      "Epoch 10/10\n",
      "313/313 [==============================] - 7s 22ms/step - loss: 0.1053 - binary_accuracy: 0.9683 - val_loss: 0.4081 - val_binary_accuracy: 0.8716\n"
     ]
    }
   ],
   "source": [
    "\n",
    "# Choosing the tf.keras.optimizers.Adam with \n",
    "# the tf.keras.losses.BinaryCrossentropy loss function and\n",
    "# the tf.metrics.BinaryAccuracy as metric\n",
    "\n",
    "model.compile(\n",
    "  optimizer=tf.keras.optimizers.Adam(1e-4),\n",
    "  loss=tf.keras.losses.BinaryCrossentropy(from_logits=True),\n",
    "  metrics=tf.metrics.BinaryAccuracy(threshold=0.0))\n",
    "\n",
    "# Finally fitting the model to the data in train_ds \n",
    "# with val_ds as the validation dataset\n",
    "# running for 10 epochs\n",
    "\n",
    "history = model.fit(\n",
    "  train_ds,\n",
    "  validation_data=val_ds,\n",
    "  epochs=epochs\n",
    ")"
   ]
  },
  {
   "cell_type": "code",
   "execution_count": 12,
   "metadata": {},
   "outputs": [
    {
     "name": "stdout",
     "output_type": "stream",
     "text": [
      "391/391 [==============================] - 4s 10ms/step - loss: 0.4740 - binary_accuracy: 0.8518\n",
      "Loss:  0.474046915769577\n",
      "Accuracy:  0.8518000245094299\n"
     ]
    }
   ],
   "source": [
    "loss, accuracy = model.evaluate(test_ds)\n",
    "\n",
    "print(\"Loss: \", loss)\n",
    "print(\"Accuracy: \", accuracy)\n"
   ]
  },
  {
   "cell_type": "code",
   "execution_count": 13,
   "metadata": {},
   "outputs": [
    {
     "data": {
      "image/png": "[encoded data removed]",
      "text/plain": [
       "<Figure size 576x576 with 2 Axes>"
      ]
     },
     "metadata": {
      "needs_background": "light"
     },
     "output_type": "display_data"
    }
   ],
   "source": [
    "acc = history.history['binary_accuracy']\n",
    "val_acc = history.history['val_binary_accuracy']\n",
    "\n",
    "loss = history.history['loss']\n",
    "val_loss = history.history['val_loss']\n",
    "\n",
    "epochs_range = range(epochs)\n",
    "\n",
    "plt.figure(figsize=(8, 8))\n",
    "plt.subplot(1, 2, 1)\n",
    "plt.plot(epochs_range, acc, label='Training Accuracy')\n",
    "plt.plot(epochs_range, val_acc, label='Validation Accuracy')\n",
    "plt.legend(loc='lower right')\n",
    "plt.title('Training and Validation Accuracy')\n",
    "\n",
    "plt.subplot(1, 2, 2)\n",
    "plt.plot(epochs_range, loss, label='Training Loss')\n",
    "plt.plot(epochs_range, val_loss, label='Validation Loss')\n",
    "plt.legend(loc='upper right')\n",
    "plt.title('Training and Validation Loss')\n",
    "plt.show()\n"
   ]
  },
  {
   "cell_type": "code",
   "execution_count": 14,
   "metadata": {},
   "outputs": [],
   "source": [
    "model = tf.keras.Sequential([\n",
    "    vectorize_layer,\n",
    "    tf.keras.layers.Embedding(len(vectorize_layer.get_vocabulary()), 64, mask_zero=True),\n",
    "    tf.keras.layers.Bidirectional(tf.keras.layers.LSTM(64,  return_sequences=True)),\n",
    "    tf.keras.layers.Bidirectional(tf.keras.layers.LSTM(32)),\n",
    "    tf.keras.layers.Dense(64, activation='relu'),\n",
    "    tf.keras.layers.Dropout(0.5),\n",
    "    tf.keras.layers.Dense(1)\n",
    "])\n"
   ]
  },
  {
   "cell_type": "code",
   "execution_count": 15,
   "metadata": {},
   "outputs": [
    {
     "name": "stdout",
     "output_type": "stream",
     "text": [
      "Epoch 1/10\n",
      "313/313 [==============================] - 25s 49ms/step - loss: 0.6546 - binary_accuracy: 0.6108 - val_loss: 0.4695 - val_binary_accuracy: 0.7952\n",
      "Epoch 2/10\n",
      "313/313 [==============================] - 12s 39ms/step - loss: 0.3686 - binary_accuracy: 0.8483 - val_loss: 0.3220 - val_binary_accuracy: 0.8718\n",
      "Epoch 3/10\n",
      "313/313 [==============================] - 12s 38ms/step - loss: 0.2567 - binary_accuracy: 0.9057 - val_loss: 0.3107 - val_binary_accuracy: 0.8720inary_accuracy: 0.9 - ETA: 1s - loss: 0.2623 - bin - ETA: 0s - loss: 0.2592 - binary_accurac\n",
      "Epoch 4/10\n",
      "313/313 [==============================] - 12s 38ms/step - loss: 0.1981 - binary_accuracy: 0.9331 - val_loss: 0.3602 - val_binary_accuracy: 0.8616\n",
      "Epoch 5/10\n",
      "313/313 [==============================] - 12s 38ms/step - loss: 0.1655 - binary_accuracy: 0.9483 - val_loss: 0.3471 - val_binary_accuracy: 0.8722loss: 0.16\n",
      "Epoch 6/10\n",
      "313/313 [==============================] - 12s 37ms/step - loss: 0.1360 - binary_accuracy: 0.9588 - val_loss: 0.3975 - val_binary_accuracy: 0.8668\n",
      "Epoch 7/10\n",
      "313/313 [==============================] - 12s 38ms/step - loss: 0.1163 - binary_accuracy: 0.9674 - val_loss: 0.4402 - val_binary_accuracy: 0.8644 - loss: 0.1165 - bin\n",
      "Epoch 8/10\n",
      "313/313 [==============================] - 12s 38ms/step - loss: 0.0989 - binary_accuracy: 0.9730 - val_loss: 0.4670 - val_binary_accuracy: 0.8656s - loss: 0.1029 - bi - ETA: 2s - l\n",
      "Epoch 9/10\n",
      "313/313 [==============================] - 12s 37ms/step - loss: 0.0852 - binary_accuracy: 0.9781 - val_loss: 0.4978 - val_binary_accuracy: 0.8640\n",
      "Epoch 10/10\n",
      "313/313 [==============================] - 12s 38ms/step - loss: 0.0718 - binary_accuracy: 0.9825 - val_loss: 0.5478 - val_binary_accuracy: 0.8616\n"
     ]
    }
   ],
   "source": [
    "\n",
    "# Choosing the tf.keras.optimizers.Adam with \n",
    "# the tf.keras.losses.BinaryCrossentropy loss function and\n",
    "# the tf.metrics.BinaryAccuracy as metric\n",
    "\n",
    "model.compile(\n",
    "  optimizer=tf.keras.optimizers.Adam(1e-4),\n",
    "  loss=tf.keras.losses.BinaryCrossentropy(from_logits=True),\n",
    "  metrics=tf.metrics.BinaryAccuracy(threshold=0.0))\n",
    "\n",
    "# Finally fitting the model to the data in train_ds \n",
    "# with val_ds as the validation dataset\n",
    "# running for 10 epochs\n",
    "\n",
    "history = model.fit(\n",
    "  train_ds,\n",
    "  validation_data=val_ds,\n",
    "  epochs=epochs\n",
    ")"
   ]
  },
  {
   "cell_type": "code",
   "execution_count": 18,
   "metadata": {},
   "outputs": [
    {
     "name": "stdout",
     "output_type": "stream",
     "text": [
      "391/391 [==============================] - 7s 17ms/step - loss: 0.6123 - binary_accuracy: 0.8422\n",
      "Loss:  0.6122856736183167\n",
      "Accuracy:  0.8421599864959717\n"
     ]
    }
   ],
   "source": [
    "loss, accuracy = model.evaluate(test_ds)\n",
    "\n",
    "print(\"Loss: \", loss)\n",
    "print(\"Accuracy: \", accuracy)\n"
   ]
  },
  {
   "cell_type": "code",
   "execution_count": 19,
   "metadata": {},
   "outputs": [
    {
     "data": {
      "image/png": "[encoded data removed]",
      "text/plain": [
       "<Figure size 576x576 with 2 Axes>"
      ]
     },
     "metadata": {
      "needs_background": "light"
     },
     "output_type": "display_data"
    }
   ],
   "source": [
    "acc = history.history['binary_accuracy']\n",
    "val_acc = history.history['val_binary_accuracy']\n",
    "\n",
    "loss = history.history['loss']\n",
    "val_loss = history.history['val_loss']\n",
    "\n",
    "epochs_range = range(epochs)\n",
    "\n",
    "plt.figure(figsize=(8, 8))\n",
    "plt.subplot(1, 2, 1)\n",
    "plt.plot(epochs_range, acc, label='Training Accuracy')\n",
    "plt.plot(epochs_range, val_acc, label='Validation Accuracy')\n",
    "plt.legend(loc='lower right')\n",
    "plt.title('Training and Validation Accuracy')\n",
    "\n",
    "plt.subplot(1, 2, 2)\n",
    "plt.plot(epochs_range, loss, label='Training Loss')\n",
    "plt.plot(epochs_range, val_loss, label='Validation Loss')\n",
    "plt.legend(loc='upper right')\n",
    "plt.title('Training and Validation Loss')\n",
    "plt.show()\n"
   ]
  },
  {
   "cell_type": "code",
   "execution_count": null,
   "metadata": {},
   "outputs": [],
   "source": []
  }
 ],
 "metadata": {
  "interpreter": {
   "hash": "f9126c580136e844750d70a450fac330b913d7a9fde66507f6d403cd4e745ffa"
  },
  "kernelspec": {
   "display_name": "Python 3.8.10 64-bit ('tf-gpu-venv': venv)",
   "language": "python",
   "name": "python3"
  },
  "language_info": {
   "codemirror_mode": {
    "name": "ipython",
    "version": 3
   },
   "file_extension": ".py",
   "mimetype": "text/x-python",
   "name": "python",
   "nbconvert_exporter": "python",
   "pygments_lexer": "ipython3",
   "version": "3.8.10"
  },
  "orig_nbformat": 4
 },
 "nbformat": 4,
 "nbformat_minor": 2
}
