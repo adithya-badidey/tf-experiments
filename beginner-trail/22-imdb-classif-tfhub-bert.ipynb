{
 "cells": [
  {
   "cell_type": "code",
   "execution_count": 1,
   "metadata": {},
   "outputs": [
    {
     "name": "stdout",
     "output_type": "stream",
     "text": [
      "TensorFlow Versions:  2.7.0\n",
      "TensorFlow **IS** using the GPU\n"
     ]
    }
   ],
   "source": [
    "import tensorflow as tf\n",
    "import numpy as np\n",
    "import matplotlib.pyplot as plt\n",
    "import seaborn as sns\n",
    "import os\n",
    "import pathlib\n",
    "import shutil\n",
    "import string\n",
    "import re\n",
    "\n",
    "import tensorflow_hub as hub\n",
    "\n",
    "# !pip install -q -U tensorflow-text\n",
    "import tensorflow_text as text\n",
    "\n",
    "# !pip install -q tf-models-official\n",
    "from official.nlp import optimization\n",
    "\n",
    "# Making sure tensorflow is working properly\n",
    "print(\"TensorFlow Versions: \", tf.__version__)\n",
    "if tf.config.list_physical_devices('GPU'):\n",
    "  print(\"TensorFlow **IS** using the GPU\")\n",
    "else:\n",
    "  print(\"TensorFlow **IS NOT** using the GPU\")\n",
    "\n",
    "# This prevents some error messages caused by reaching memory limits\n",
    "gpus = tf.config.experimental.list_physical_devices('GPU')\n",
    "for gpu in gpus:\n",
    "    tf.config.experimental.set_memory_growth(gpu, True)\n"
   ]
  },
  {
   "cell_type": "code",
   "execution_count": 2,
   "metadata": {},
   "outputs": [
    {
     "name": "stdout",
     "output_type": "stream",
     "text": [
      "Found the 'aclImdb' dataset.\n"
     ]
    }
   ],
   "source": [
    "data_dir = pathlib.Path('/home/addy/.keras/datasets')/'aclImdb'\n",
    "\n",
    "if data_dir.exists():\n",
    "    print(\"Found the 'aclImdb' dataset.\")\n",
    "\n",
    "else:\n",
    "    print(\"Downloading 'aclImdb' dataset.\")\n",
    "    \n",
    "    url = \"https://ai.stanford.edu/~amaas/data/sentiment/aclImdb_v1.tar.gz\"\n",
    "    dataset = tf.keras.utils.get_file(\"aclImdb_v1\", url,\n",
    "                                        untar=True)\n",
    "\n",
    "    data_dir = os.path.join(os.path.dirname(dataset), 'aclImdb')\n",
    "    \n",
    "    unsup = data_dir/ 'train' / 'unsup'\n",
    "    if unsup.exists():\n",
    "        print(\"Deleting unsupervised texts.\")\n",
    "        shutil.rmtree(unsup)\n"
   ]
  },
  {
   "cell_type": "code",
   "execution_count": 3,
   "metadata": {},
   "outputs": [],
   "source": [
    "# Initializing parameters\n",
    "\n",
    "batch_size = 32     # Reduce this if you get memory errors\n",
    "\n",
    "seed = 120          # A random seed to get replicable results\n",
    "\n",
    "epochs = 10         # The number of training epochs"
   ]
  },
  {
   "cell_type": "code",
   "execution_count": 4,
   "metadata": {},
   "outputs": [
    {
     "name": "stdout",
     "output_type": "stream",
     "text": [
      "Found 25000 files belonging to 2 classes.\n"
     ]
    },
    {
     "name": "stderr",
     "output_type": "stream",
     "text": [
      "2022-01-03 12:34:03.790457: I tensorflow/core/platform/cpu_feature_guard.cc:151] This TensorFlow binary is optimized with oneAPI Deep Neural Network Library (oneDNN) to use the following CPU instructions in performance-critical operations:  AVX2 FMA\n",
      "To enable them in other operations, rebuild TensorFlow with the appropriate compiler flags.\n",
      "2022-01-03 12:34:04.737990: I tensorflow/core/common_runtime/gpu/gpu_device.cc:1525] Created device /job:localhost/replica:0/task:0/device:GPU:0 with 1541 MB memory:  -> device: 0, name: NVIDIA GeForce GTX 1660 Ti, pci bus id: 0000:01:00.0, compute capability: 7.5\n"
     ]
    }
   ],
   "source": [
    "# Initializing the training dataset\n",
    "\n",
    "train_ds = tf.keras.utils.text_dataset_from_directory(\n",
    "  data_dir/'train',\n",
    "  batch_size=batch_size)\n"
   ]
  },
  {
   "cell_type": "code",
   "execution_count": 5,
   "metadata": {},
   "outputs": [
    {
     "name": "stdout",
     "output_type": "stream",
     "text": [
      "Found 25000 files belonging to 2 classes.\n",
      "Using 12500 files for training.\n"
     ]
    }
   ],
   "source": [
    "# Initializing the validation dataset\n",
    "\n",
    "val_ds = tf.keras.utils.text_dataset_from_directory(\n",
    "    data_dir/'test', \n",
    "    validation_split=0.5,\n",
    "    subset=\"training\",\n",
    "    seed=seed,\n",
    "    batch_size=batch_size)\n"
   ]
  },
  {
   "cell_type": "code",
   "execution_count": 6,
   "metadata": {},
   "outputs": [
    {
     "name": "stdout",
     "output_type": "stream",
     "text": [
      "Found 25000 files belonging to 2 classes.\n",
      "Using 12500 files for validation.\n"
     ]
    }
   ],
   "source": [
    "test_ds = tf.keras.utils.text_dataset_from_directory(\n",
    "    data_dir/'test', \n",
    "    validation_split=0.5,\n",
    "    subset=\"validation\",\n",
    "    seed=seed,\n",
    "    batch_size=batch_size)\n"
   ]
  },
  {
   "cell_type": "code",
   "execution_count": 7,
   "metadata": {},
   "outputs": [],
   "source": [
    "model_name = 'https://tfhub.dev/tensorflow/small_bert/bert_en_uncased_L-2_H-256_A-4/1'\n",
    "preprocessor_name = 'https://tfhub.dev/tensorflow/bert_en_uncased_preprocess/3'\n"
   ]
  },
  {
   "cell_type": "code",
   "execution_count": 8,
   "metadata": {},
   "outputs": [],
   "source": [
    "bert_preprocess_model = hub.KerasLayer(preprocessor_name)"
   ]
  },
  {
   "cell_type": "code",
   "execution_count": 9,
   "metadata": {},
   "outputs": [
    {
     "name": "stdout",
     "output_type": "stream",
     "text": [
      "Keys       : ['input_word_ids', 'input_type_ids', 'input_mask']\n",
      "Shape      : (1, 128)\n",
      "Word Ids   : [ 101 2023 2003 2107 2019 6429 3185  999  102    0    0    0]\n",
      "Input Mask : [1 1 1 1 1 1 1 1 1 0 0 0]\n",
      "Type Ids   : [0 0 0 0 0 0 0 0 0 0 0 0]\n"
     ]
    }
   ],
   "source": [
    "text_test = ['this is such an amazing movie!']\n",
    "text_preprocessed = bert_preprocess_model(text_test)\n",
    "\n",
    "print(f'Keys       : {list(text_preprocessed.keys())}')\n",
    "print(f'Shape      : {text_preprocessed[\"input_word_ids\"].shape}')\n",
    "print(f'Word Ids   : {text_preprocessed[\"input_word_ids\"][0, :12]}')\n",
    "print(f'Input Mask : {text_preprocessed[\"input_mask\"][0, :12]}')\n",
    "print(f'Type Ids   : {text_preprocessed[\"input_type_ids\"][0, :12]}')\n"
   ]
  },
  {
   "cell_type": "code",
   "execution_count": 10,
   "metadata": {},
   "outputs": [],
   "source": [
    "bert_model = hub.KerasLayer(model_name)"
   ]
  },
  {
   "cell_type": "code",
   "execution_count": 11,
   "metadata": {},
   "outputs": [
    {
     "name": "stdout",
     "output_type": "stream",
     "text": [
      "Loaded BERT: https://tfhub.dev/tensorflow/small_bert/bert_en_uncased_L-2_H-256_A-4/1\n",
      "Pooled Outputs Shape:(1, 256)\n",
      "Pooled Outputs Values:[ 0.99239707 -0.05357236  0.30918452  0.9505573  -0.05440641  0.9988623\n",
      " -0.9947894  -0.00854003 -0.45510355 -0.08636723  0.83203906 -0.9255265 ]\n",
      "Sequence Outputs Shape:(1, 128, 256)\n",
      "Sequence Outputs Values:[[-0.96845496 -1.7037114   1.0094738  ...  0.8407504   0.35471347\n",
      "  -1.8288116 ]\n",
      " [-0.7315022  -0.9106694   0.30870166 ...  1.2626383   0.18190627\n",
      "  -0.8705799 ]\n",
      " [-1.1151159  -1.8587093   1.9688952  ...  0.47472265  1.1492225\n",
      "  -0.3635186 ]\n",
      " ...\n",
      " [-1.0249413  -1.7695187   0.36316845 ...  0.35074967  0.18355954\n",
      "  -0.67655826]\n",
      " [-0.4708296  -2.0506597   0.2558349  ...  0.85013634  0.18506344\n",
      "  -0.6660304 ]\n",
      " [-0.14080274 -1.8676223   0.6415788  ...  0.25832334  0.04616897\n",
      "  -0.14218219]]\n"
     ]
    }
   ],
   "source": [
    "bert_results = bert_model(text_preprocessed)\n",
    "\n",
    "print(f'Loaded BERT: {model_name}')\n",
    "print(f'Pooled Outputs Shape:{bert_results[\"pooled_output\"].shape}')\n",
    "print(f'Pooled Outputs Values:{bert_results[\"pooled_output\"][0, :12]}')\n",
    "print(f'Sequence Outputs Shape:{bert_results[\"sequence_output\"].shape}')\n",
    "print(f'Sequence Outputs Values:{bert_results[\"sequence_output\"][0, :12]}')\n"
   ]
  },
  {
   "cell_type": "code",
   "execution_count": 12,
   "metadata": {},
   "outputs": [],
   "source": [
    "def build_classifier_model():\n",
    "  text_input = tf.keras.layers.Input(shape=(), dtype=tf.string, name='text')\n",
    "  preprocessing_layer = hub.KerasLayer(preprocessor_name, name='preprocessing')\n",
    "  \n",
    "  encoder_inputs = preprocessing_layer(text_input)\n",
    "  encoder = hub.KerasLayer(model_name, trainable=True, name='BERT_encoder')\n",
    "  encoder_outputs = encoder(encoder_inputs)\n",
    "  net = encoder_outputs['pooled_output']\n",
    "  net = tf.keras.layers.Dropout(0.2)(net)\n",
    "  net = tf.keras.layers.Dense(1, activation=None, name='classifier')(net)\n",
    "  return tf.keras.Model(text_input, net)\n"
   ]
  },
  {
   "cell_type": "code",
   "execution_count": 13,
   "metadata": {},
   "outputs": [],
   "source": [
    "model = build_classifier_model()\n"
   ]
  },
  {
   "cell_type": "code",
   "execution_count": 14,
   "metadata": {},
   "outputs": [
    {
     "name": "stdout",
     "output_type": "stream",
     "text": [
      "tf.Tensor([[0.15115346]], shape=(1, 1), dtype=float32)\n",
      "Model: \"model\"\n",
      "__________________________________________________________________________________________________\n",
      " Layer (type)                   Output Shape         Param #     Connected to                     \n",
      "==================================================================================================\n",
      " text (InputLayer)              [(None,)]            0           []                               \n",
      "                                                                                                  \n",
      " preprocessing (KerasLayer)     {'input_type_ids':   0           ['text[0][0]']                   \n",
      "                                (None, 128),                                                      \n",
      "                                 'input_mask': (Non                                               \n",
      "                                e, 128),                                                          \n",
      "                                 'input_word_ids':                                                \n",
      "                                (None, 128)}                                                      \n",
      "                                                                                                  \n",
      " BERT_encoder (KerasLayer)      {'encoder_outputs':  9591041     ['preprocessing[0][0]',          \n",
      "                                 [(None, 128, 256),               'preprocessing[0][1]',          \n",
      "                                 (None, 128, 256)],               'preprocessing[0][2]']          \n",
      "                                 'pooled_output': (                                               \n",
      "                                None, 256),                                                       \n",
      "                                 'default': (None,                                                \n",
      "                                256),                                                             \n",
      "                                 'sequence_output':                                               \n",
      "                                 (None, 128, 256)}                                                \n",
      "                                                                                                  \n",
      " dropout (Dropout)              (None, 256)          0           ['BERT_encoder[0][3]']           \n",
      "                                                                                                  \n",
      " classifier (Dense)             (None, 1)            257         ['dropout[0][0]']                \n",
      "                                                                                                  \n",
      "==================================================================================================\n",
      "Total params: 9,591,298\n",
      "Trainable params: 9,591,297\n",
      "Non-trainable params: 1\n",
      "__________________________________________________________________________________________________\n"
     ]
    }
   ],
   "source": [
    "bert_raw_result = model(tf.constant(text_test))\n",
    "print(tf.sigmoid(bert_raw_result))\n",
    "model.summary()"
   ]
  },
  {
   "cell_type": "code",
   "execution_count": 15,
   "metadata": {},
   "outputs": [],
   "source": [
    "\n",
    "steps_per_epoch = tf.data.experimental.cardinality(train_ds).numpy()\n",
    "num_train_steps = steps_per_epoch * epochs\n",
    "num_warmup_steps = int(0.1*num_train_steps)\n",
    "\n",
    "init_lr = 3e-5\n",
    "optimizer = optimization.create_optimizer(init_lr=init_lr,\n",
    "                                          num_train_steps=num_train_steps,\n",
    "                                          num_warmup_steps=num_warmup_steps,\n",
    "                                          optimizer_type='adamw')\n"
   ]
  },
  {
   "cell_type": "code",
   "execution_count": 16,
   "metadata": {},
   "outputs": [
    {
     "name": "stdout",
     "output_type": "stream",
     "text": [
      "Epoch 1/10\n",
      "782/782 [==============================] - 74s 91ms/step - loss: 0.6071 - binary_accuracy: 0.6582 - val_loss: 0.4819 - val_binary_accuracy: 0.7781\n",
      "Epoch 2/10\n",
      "782/782 [==============================] - 71s 91ms/step - loss: 0.4350 - binary_accuracy: 0.7988 - val_loss: 0.4240 - val_binary_accuracy: 0.8154\n",
      "Epoch 3/10\n",
      "782/782 [==============================] - 71s 91ms/step - loss: 0.3783 - binary_accuracy: 0.8342 - val_loss: 0.4143 - val_binary_accuracy: 0.8248\n",
      "Epoch 4/10\n",
      "782/782 [==============================] - 71s 91ms/step - loss: 0.3312 - binary_accuracy: 0.8600 - val_loss: 0.4241 - val_binary_accuracy: 0.8271\n",
      "Epoch 5/10\n",
      "782/782 [==============================] - 71s 91ms/step - loss: 0.2861 - binary_accuracy: 0.8818 - val_loss: 0.4490 - val_binary_accuracy: 0.8257\n",
      "Epoch 6/10\n",
      "782/782 [==============================] - 71s 91ms/step - loss: 0.2542 - binary_accuracy: 0.8982 - val_loss: 0.4834 - val_binary_accuracy: 0.8229\n",
      "Epoch 7/10\n",
      "782/782 [==============================] - 71s 91ms/step - loss: 0.2270 - binary_accuracy: 0.9110 - val_loss: 0.5000 - val_binary_accuracy: 0.8221\n",
      "Epoch 8/10\n",
      "782/782 [==============================] - 71s 91ms/step - loss: 0.2072 - binary_accuracy: 0.9178 - val_loss: 0.5226 - val_binary_accuracy: 0.8163\n",
      "Epoch 9/10\n",
      "782/782 [==============================] - 71s 91ms/step - loss: 0.1922 - binary_accuracy: 0.9277 - val_loss: 0.5419 - val_binary_accuracy: 0.8164\n",
      "Epoch 10/10\n",
      "782/782 [==============================] - 71s 91ms/step - loss: 0.1827 - binary_accuracy: 0.9313 - val_loss: 0.5381 - val_binary_accuracy: 0.8182\n"
     ]
    }
   ],
   "source": [
    "\n",
    "# Choosing the tf.keras.optimizers.Adam with \n",
    "# the tf.keras.losses.BinaryCrossentropy loss function and\n",
    "# the tf.metrics.BinaryAccuracy as metric\n",
    "\n",
    "model.compile(\n",
    "  optimizer=optimizer,\n",
    "  loss=tf.keras.losses.BinaryCrossentropy(from_logits=True),\n",
    "  metrics=tf.metrics.BinaryAccuracy(threshold=0.0))\n",
    "\n",
    "# Finally fitting the model to the data in train_ds \n",
    "# with val_ds as the validation dataset\n",
    "# running for 10 epochs\n",
    "\n",
    "history = model.fit(\n",
    "  train_ds,\n",
    "  validation_data=val_ds,\n",
    "  epochs=epochs\n",
    ")"
   ]
  },
  {
   "cell_type": "code",
   "execution_count": 17,
   "metadata": {},
   "outputs": [
    {
     "name": "stdout",
     "output_type": "stream",
     "text": [
      "391/391 [==============================] - 17s 43ms/step - loss: 0.5381 - binary_accuracy: 0.8182\n",
      "Loss: 0.5380671620368958\n",
      "Accuracy: 0.8181599974632263\n"
     ]
    }
   ],
   "source": [
    "loss, accuracy = model.evaluate(val_ds)\n",
    "\n",
    "print(f'Loss: {loss}')\n",
    "print(f'Accuracy: {accuracy}')\n"
   ]
  },
  {
   "cell_type": "code",
   "execution_count": 18,
   "metadata": {},
   "outputs": [
    {
     "data": {
      "image/png": "[encoded data removed]",
      "text/plain": [
       "<Figure size 576x576 with 2 Axes>"
      ]
     },
     "metadata": {
      "needs_background": "light"
     },
     "output_type": "display_data"
    }
   ],
   "source": [
    "acc = history.history['binary_accuracy']\n",
    "val_acc = history.history['val_binary_accuracy']\n",
    "\n",
    "loss = history.history['loss']\n",
    "val_loss = history.history['val_loss']\n",
    "\n",
    "epochs_range = range(epochs)\n",
    "\n",
    "plt.figure(figsize=(8, 8))\n",
    "plt.subplot(1, 2, 1)\n",
    "plt.plot(epochs_range, acc, label='Training Accuracy')\n",
    "plt.plot(epochs_range, val_acc, label='Validation Accuracy')\n",
    "plt.legend(loc='lower right')\n",
    "plt.title('Training and Validation Accuracy')\n",
    "\n",
    "plt.subplot(1, 2, 2)\n",
    "plt.plot(epochs_range, loss, label='Training Loss')\n",
    "plt.plot(epochs_range, val_loss, label='Validation Loss')\n",
    "plt.legend(loc='upper right')\n",
    "plt.title('Training and Validation Loss')\n",
    "plt.show()\n"
   ]
  },
  {
   "cell_type": "code",
   "execution_count": null,
   "metadata": {},
   "outputs": [],
   "source": []
  }
 ],
 "metadata": {
  "interpreter": {
   "hash": "f9126c580136e844750d70a450fac330b913d7a9fde66507f6d403cd4e745ffa"
  },
  "kernelspec": {
   "display_name": "Python 3.8.10 64-bit ('tf-gpu-venv': venv)",
   "language": "python",
   "name": "python3"
  },
  "language_info": {
   "codemirror_mode": {
    "name": "ipython",
    "version": 3
   },
   "file_extension": ".py",
   "mimetype": "text/x-python",
   "name": "python",
   "nbconvert_exporter": "python",
   "pygments_lexer": "ipython3",
   "version": "3.8.10"
  },
  "orig_nbformat": 4
 },
 "nbformat": 4,
 "nbformat_minor": 2
}
