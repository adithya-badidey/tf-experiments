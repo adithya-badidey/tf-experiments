{
 "cells": [
  {
   "cell_type": "code",
   "execution_count": 1,
   "metadata": {},
   "outputs": [
    {
     "name": "stdout",
     "output_type": "stream",
     "text": [
      "TensorFlow Versions:  2.7.0\n",
      "TensorFlow **IS** using the GPU\n"
     ]
    }
   ],
   "source": [
    "import tensorflow as tf\n",
    "import numpy as np\n",
    "import matplotlib.pyplot as plt\n",
    "import seaborn as sns\n",
    "import os\n",
    "import pathlib\n",
    "import shutil\n",
    "import string\n",
    "import re\n",
    "\n",
    "# Making sure tensorflow is working properly\n",
    "print(\"TensorFlow Versions: \", tf.__version__)\n",
    "if tf.config.list_physical_devices('GPU'):\n",
    "  print(\"TensorFlow **IS** using the GPU\")\n",
    "else:\n",
    "  print(\"TensorFlow **IS NOT** using the GPU\")\n",
    "\n",
    "# This prevents some error messages caused by reaching memory limits\n",
    "gpus = tf.config.experimental.list_physical_devices('GPU')\n",
    "for gpu in gpus:\n",
    "    tf.config.experimental.set_memory_growth(gpu, True)\n"
   ]
  },
  {
   "cell_type": "code",
   "execution_count": 2,
   "metadata": {},
   "outputs": [
    {
     "name": "stdout",
     "output_type": "stream",
     "text": [
      "Found the 'aclImdb' dataset.\n"
     ]
    }
   ],
   "source": [
    "data_dir = pathlib.Path('/home/addy/.keras/datasets')/'aclImdb'\n",
    "\n",
    "if data_dir.exists():\n",
    "    print(\"Found the 'aclImdb' dataset.\")\n",
    "\n",
    "else:\n",
    "    print(\"Downloading 'aclImdb' dataset.\")\n",
    "    \n",
    "    url = \"https://ai.stanford.edu/~amaas/data/sentiment/aclImdb_v1.tar.gz\"\n",
    "    dataset = tf.keras.utils.get_file(\"aclImdb_v1\", url,\n",
    "                                        untar=True)\n",
    "\n",
    "    data_dir = os.path.join(os.path.dirname(dataset), 'aclImdb')\n",
    "    \n",
    "    unsup = data_dir/ 'train' / 'unsup'\n",
    "    if unsup.exists():\n",
    "        print(\"Deleting unsupervised texts.\")\n",
    "        shutil.rmtree(unsup)\n"
   ]
  },
  {
   "cell_type": "code",
   "execution_count": 3,
   "metadata": {},
   "outputs": [
    {
     "data": {
      "text/plain": [
       "['urls_pos.txt',\n",
       " 'pos',\n",
       " 'neg',\n",
       " 'urls_neg.txt',\n",
       " 'unsupBow.feat',\n",
       " 'urls_unsup.txt',\n",
       " 'labeledBow.feat']"
      ]
     },
     "execution_count": 3,
     "metadata": {},
     "output_type": "execute_result"
    }
   ],
   "source": [
    "train_dir = data_dir / 'train'\n",
    "os.listdir(train_dir)\n"
   ]
  },
  {
   "cell_type": "code",
   "execution_count": 4,
   "metadata": {},
   "outputs": [
    {
     "name": "stdout",
     "output_type": "stream",
     "text": [
      "Data Directory:  /home/addy/.keras/datasets/aclImdb\n",
      "Number of texts in train:  25000\n",
      "Number of texts in train/pos/:  12500\n",
      "Number of texts in train/neg/:  12500\n",
      "\n",
      "Number of texts in test:  25000\n",
      "Number of texts in test/pos/:  12500\n",
      "Number of texts in test/neg/:  12500\n"
     ]
    }
   ],
   "source": [
    "pos_count = len(list(data_dir.glob('train/pos/*.txt')))\n",
    "neg_count = len(list(data_dir.glob('train/neg/*.txt')))\n",
    "all_count = neg_count + pos_count\n",
    "print(\"Data Directory: \", data_dir)\n",
    "print(\"Number of texts in train: \", all_count)\n",
    "print(\"Number of texts in train/pos/: \", pos_count)\n",
    "print(\"Number of texts in train/neg/: \", neg_count)\n",
    "print()\n",
    "pos_count = len(list(data_dir.glob('test/pos/*.txt')))\n",
    "neg_count = len(list(data_dir.glob('test/neg/*.txt')))\n",
    "all_count = neg_count + pos_count\n",
    "print(\"Number of texts in test: \", all_count)\n",
    "print(\"Number of texts in test/pos/: \", pos_count)\n",
    "print(\"Number of texts in test/neg/: \", neg_count)"
   ]
  },
  {
   "cell_type": "code",
   "execution_count": 5,
   "metadata": {},
   "outputs": [],
   "source": [
    "# Initializing parameters\n",
    "\n",
    "batch_size = 32     # Reduce this if you get memory errors\n",
    "\n",
    "seed = 2476          # A random seed to get replicable results\n",
    "\n",
    "epochs = 10         # The number of training epochs"
   ]
  },
  {
   "cell_type": "code",
   "execution_count": 6,
   "metadata": {},
   "outputs": [
    {
     "name": "stdout",
     "output_type": "stream",
     "text": [
      "Found 25000 files belonging to 2 classes.\n",
      "Using 20000 files for training.\n"
     ]
    },
    {
     "name": "stderr",
     "output_type": "stream",
     "text": [
      "2022-01-02 13:54:17.170298: I tensorflow/core/platform/cpu_feature_guard.cc:151] This TensorFlow binary is optimized with oneAPI Deep Neural Network Library (oneDNN) to use the following CPU instructions in performance-critical operations:  AVX2 FMA\n",
      "To enable them in other operations, rebuild TensorFlow with the appropriate compiler flags.\n",
      "2022-01-02 13:54:17.579191: I tensorflow/core/common_runtime/gpu/gpu_device.cc:1525] Created device /job:localhost/replica:0/task:0/device:GPU:0 with 3823 MB memory:  -> device: 0, name: NVIDIA GeForce GTX 1660 Ti, pci bus id: 0000:01:00.0, compute capability: 7.5\n"
     ]
    }
   ],
   "source": [
    "# Initializing the training dataset\n",
    "\n",
    "train_ds = tf.keras.utils.text_dataset_from_directory(\n",
    "  data_dir/'train',\n",
    "  validation_split=0.2,\n",
    "  subset=\"training\",\n",
    "  seed=seed,\n",
    "  batch_size=batch_size)\n"
   ]
  },
  {
   "cell_type": "code",
   "execution_count": 9,
   "metadata": {},
   "outputs": [
    {
     "name": "stdout",
     "output_type": "stream",
     "text": [
      "texts:  [b\"I am a big movie fan. I like movies of all types. This is arguably the worst movie I've ever seen.<br /><br />I get that it follows the book closely, which raises the point that not everything should be made into a movie. Especially since the authenticity of the experiences in the book have been called into question more than once.<br /><br />These characters are not quirky, they are mentally ill. The things that happen are not funny, they are disturbing; especially considering they are supposed to be true.<br /><br />This movie had the feel of The Royal Tenenbaums, another movie I hated, only Running With Scissors was even more dysfunctional and less funny.<br /><br />I will never get those hours back. I wanted to wash my brain after watching.\"\n",
      " b'As a grownup in my mid-40s, I am not even close to any of \"Nancy Drew\"\\'s key demographics, but I was pleasantly surprised by the film this afternoon; so, I could tell, were the pair of sixtyish silver-haired ladies down the row from me. The older man who left the theater just ahead of me specifically praised the film to the 20-ish female usher (who said she\\'d seen the film the previous evening and quite liked it).<br /><br />More to the point, however: In the row just ahead of me, there were nine -- count them, nine -- ten-year-old girls lined up next to each other, passing popcorn and hot dogs and candy back and forth and giggling through the previews.<br /><br />Once the film began, they promptly settled down to watch....<br /><br />....and didn\\'t so much as peep till the closing credits began to roll.<br /><br />This is not a perfect film; it doesn\\'t quite pay off its high school subplots, it\\'s not quite confident enough of its own tone, and its thugs are just a hair too far over toward critically inept at times. But the adaptation of the source material is essentially respectful, the plot hangs together fairly well, and it treads deftly between the sins of excessive cheesiness and excessive modernization. Last but not least, Emma Roberts carries the movie with startling grace -- Josh Flitter\\'s superb timing notwithstanding, this is Roberts\\' movie, and she pulls it off beautifully. Her Nancy Drew is very much the direct ancestor of Kristen Bell\\'s Veronica Mars, and the film is also a lineal descendant of Jodie Foster\\'s early and underrated \"Candleshoe\".<br /><br />In today\\'s marketplace, it\\'s a rarity: a family movie that respects its viewers\\' intelligence. As such, it won\\'t be to everyone\\'s taste -- but for what it is, it is the best movie of its kind in decades.'\n",
      " b\"En route to a small town that lays way off the beaten track (but which looks suspiciously close to a freeway), a female reporter runs into a strange hitch-hiker who agrees to help direct her to her destination. The strange man then recounts a pair of gruesome tales connected to the area: in the first story, an adulterous couple plot to kill the woman's husband, but eventually suffer a far worse fate themselves when they are attacked by a zombie; and in the second story, a group of campers have their vacation cut short when an undead outlaw takes umbrage at having his grave peed on.<br /><br />The Zombie Chronicles is an attempt by writer Garrett Clancy and director Brad Sykes at making a zombie themed anthology\\xc2\\x97a nice idea, but with only two stories, it falls woefully short. And that's not the only way in which this low budget gore flick fails to deliver: the acting is lousy (with Joe Haggerty, as the tale-telling Ebenezer Jackson, giving one of the strangest performances I have ever seen); the locations are uninspired; the script is dreary; there's a sex scene with zero nudity; and the ending.... well, that beggars belief.<br /><br />To be fair, some of Sykes' creative camera-work is effective (although the gimmicky technique employed as characters run through the woods is a tad overused) and Joe Castro's cheapo gore is enthusiastic: an ear is bitten off, eyeballs are plucked out, a face is removed, brains are squished, and there is a messy decapitation. These positives just about make the film bearable, but be warned, The Zombie Chronicles ain't a stroll in the park, even for seasoned viewers of z-grade trash.<br /><br />I give The Zombie Chronicles 2/10, but generously raise my rating to 3 since I didn't get to view the film with the benefit of 3D (although I have a sneaking suspicion that an extra dimension wouldn't have made that much of a difference).\"]\n",
      "\n",
      "labels:  [0 1 0]\n"
     ]
    }
   ],
   "source": [
    "class_names = train_ds.class_names\n",
    "\n",
    "for text_batch, label_batch in train_ds.take(1):\n",
    "  print('texts: ', text_batch.numpy()[:3])\n",
    "  print()\n",
    "  print('labels: ', label_batch.numpy()[:3])\n",
    "\n"
   ]
  },
  {
   "cell_type": "code",
   "execution_count": 10,
   "metadata": {},
   "outputs": [
    {
     "name": "stdout",
     "output_type": "stream",
     "text": [
      "Found 25000 files belonging to 2 classes.\n",
      "Using 5000 files for validation.\n"
     ]
    }
   ],
   "source": [
    "# Initializing the validation dataset\n",
    "\n",
    "val_ds = tf.keras.utils.text_dataset_from_directory(\n",
    "  data_dir/'train',\n",
    "  validation_split=0.2,\n",
    "  subset=\"validation\",\n",
    "  seed=seed,\n",
    "  batch_size=batch_size)\n"
   ]
  },
  {
   "cell_type": "code",
   "execution_count": 11,
   "metadata": {},
   "outputs": [
    {
     "name": "stdout",
     "output_type": "stream",
     "text": [
      "Found 25000 files belonging to 2 classes.\n"
     ]
    }
   ],
   "source": [
    "test_ds = tf.keras.utils.text_dataset_from_directory(\n",
    "    data_dir/'test', \n",
    "    batch_size=batch_size)\n"
   ]
  },
  {
   "cell_type": "code",
   "execution_count": 12,
   "metadata": {},
   "outputs": [
    {
     "data": {
      "text/plain": [
       "'[!\"\\\\#\\\\$%\\\\&\\'\\\\(\\\\)\\\\*\\\\+,\\\\-\\\\./:;<=>\\\\?@\\\\[\\\\\\\\\\\\]\\\\^_`\\\\{\\\\|\\\\}\\\\~]'"
      ]
     },
     "execution_count": 12,
     "metadata": {},
     "output_type": "execute_result"
    }
   ],
   "source": [
    "'[%s]' % re.escape(string.punctuation)"
   ]
  },
  {
   "cell_type": "code",
   "execution_count": 13,
   "metadata": {},
   "outputs": [],
   "source": [
    "def custom_standardization(input_data):\n",
    "  lowercase = tf.strings.lower(input_data)\n",
    "  stripped_html = tf.strings.regex_replace(lowercase, '<br />', ' ')\n",
    "  return tf.strings.regex_replace(stripped_html,\n",
    "                                  '[%s]' % re.escape(string.punctuation),\n",
    "                                  '')\n"
   ]
  },
  {
   "cell_type": "code",
   "execution_count": 14,
   "metadata": {},
   "outputs": [],
   "source": [
    "text = 'I can\\'t believe this movie managed to get such a relatively high rating of 6! It is barely watchable and unbelievably boring, certainly one of the worst films I have seen in a long, long time.<br /><br />In a no-budget way, it reminded me of Star Wars Episodes I and II for the sheer impression that you are watching a total creative train wreck.<br /><br />This film should be avoided at all costs. It\\'s one of those \"festival films\" that only please the pseudo-intellectuals because they are so badly made those people think it makes it \"different\", therefore good.<br /><br />Bad film-making is not \"different\", it\\'s just bad film-making.'"
   ]
  },
  {
   "cell_type": "code",
   "execution_count": 15,
   "metadata": {},
   "outputs": [
    {
     "data": {
      "text/plain": [
       "<tf.Tensor: shape=(), dtype=string, numpy=b'i cant believe this movie managed to get such a relatively high rating of 6 it is barely watchable and unbelievably boring certainly one of the worst films i have seen in a long long time  in a nobudget way it reminded me of star wars episodes i and ii for the sheer impression that you are watching a total creative train wreck  this film should be avoided at all costs its one of those festival films that only please the pseudointellectuals because they are so badly made those people think it makes it different therefore good  bad filmmaking is not different its just bad filmmaking'>"
      ]
     },
     "execution_count": 15,
     "metadata": {},
     "output_type": "execute_result"
    }
   ],
   "source": [
    "custom_standardization(text)"
   ]
  },
  {
   "cell_type": "code",
   "execution_count": 16,
   "metadata": {},
   "outputs": [],
   "source": [
    "max_features = 10000\n",
    "sequence_length = 250\n",
    "\n",
    "vectorize_layer = tf.keras.layers.TextVectorization(\n",
    "    standardize=custom_standardization,\n",
    "    max_tokens=max_features,\n",
    "    output_mode='int',\n",
    "    output_sequence_length=sequence_length)\n"
   ]
  },
  {
   "cell_type": "code",
   "execution_count": 17,
   "metadata": {},
   "outputs": [],
   "source": [
    "train_text = train_ds.map(lambda x, y: x)\n",
    "vectorize_layer.adapt(train_text)\n"
   ]
  },
  {
   "cell_type": "code",
   "execution_count": 17,
   "metadata": {},
   "outputs": [
    {
     "data": {
      "text/plain": [
       "<tf.Tensor: shape=(250,), dtype=int64, numpy=\n",
       "array([4749,   46,    0,    0,    0,    0,    0,    0,    0,    0,    0,\n",
       "          0,    0,    0,    0,    0,    0,    0,    0,    0,    0,    0,\n",
       "          0,    0,    0,    0,    0,    0,    0,    0,    0,    0,    0,\n",
       "          0,    0,    0,    0,    0,    0,    0,    0,    0,    0,    0,\n",
       "          0,    0,    0,    0,    0,    0,    0,    0,    0,    0,    0,\n",
       "          0,    0,    0,    0,    0,    0,    0,    0,    0,    0,    0,\n",
       "          0,    0,    0,    0,    0,    0,    0,    0,    0,    0,    0,\n",
       "          0,    0,    0,    0,    0,    0,    0,    0,    0,    0,    0,\n",
       "          0,    0,    0,    0,    0,    0,    0,    0,    0,    0,    0,\n",
       "          0,    0,    0,    0,    0,    0,    0,    0,    0,    0,    0,\n",
       "          0,    0,    0,    0,    0,    0,    0,    0,    0,    0,    0,\n",
       "          0,    0,    0,    0,    0,    0,    0,    0,    0,    0,    0,\n",
       "          0,    0,    0,    0,    0,    0,    0,    0,    0,    0,    0,\n",
       "          0,    0,    0,    0,    0,    0,    0,    0,    0,    0,    0,\n",
       "          0,    0,    0,    0,    0,    0,    0,    0,    0,    0,    0,\n",
       "          0,    0,    0,    0,    0,    0,    0,    0,    0,    0,    0,\n",
       "          0,    0,    0,    0,    0,    0,    0,    0,    0,    0,    0,\n",
       "          0,    0,    0,    0,    0,    0,    0,    0,    0,    0,    0,\n",
       "          0,    0,    0,    0,    0,    0,    0,    0,    0,    0,    0,\n",
       "          0,    0,    0,    0,    0,    0,    0,    0,    0,    0,    0,\n",
       "          0,    0,    0,    0,    0,    0,    0,    0,    0,    0,    0,\n",
       "          0,    0,    0,    0,    0,    0,    0,    0,    0,    0,    0,\n",
       "          0,    0,    0,    0,    0,    0,    0,    0])>"
      ]
     },
     "execution_count": 17,
     "metadata": {},
     "output_type": "execute_result"
    }
   ],
   "source": [
    "vectorize_layer(\"Hello There\")"
   ]
  },
  {
   "cell_type": "code",
   "execution_count": 18,
   "metadata": {},
   "outputs": [
    {
     "data": {
      "text/plain": [
       "('hello', 'there')"
      ]
     },
     "execution_count": 18,
     "metadata": {},
     "output_type": "execute_result"
    }
   ],
   "source": [
    "vectorize_layer.get_vocabulary()[4749], vectorize_layer.get_vocabulary()[46] "
   ]
  },
  {
   "cell_type": "code",
   "execution_count": 19,
   "metadata": {},
   "outputs": [],
   "source": [
    "def vectorize_text(text, label):\n",
    "  text = tf.expand_dims(text, -1)\n",
    "  return vectorize_layer(text), label"
   ]
  },
  {
   "cell_type": "code",
   "execution_count": 21,
   "metadata": {},
   "outputs": [
    {
     "data": {
      "text/plain": [
       "array(['', '[UNK]', 'the', 'and', 'a', 'of', 'to', 'is', 'in', 'it', 'i',\n",
       "       'this', 'that', 'was', 'as', 'for', 'with', 'movie', 'but', 'film'],\n",
       "      dtype='<U17')"
      ]
     },
     "execution_count": 21,
     "metadata": {},
     "output_type": "execute_result"
    }
   ],
   "source": [
    "vocab = np.array(vectorize_layer.get_vocabulary())\n",
    "vocab[:20]\n"
   ]
  },
  {
   "cell_type": "code",
   "execution_count": 23,
   "metadata": {},
   "outputs": [
    {
     "name": "stdout",
     "output_type": "stream",
     "text": [
      "Original:  b\"I am a big movie fan. I like movies of all types. This is arguably the worst movie I've ever seen.<br /><br />I get that it follows the book closely, which raises the point that not everything should be made into a movie. Especially since the authenticity of the experiences in the book have been called into question more than once.<br /><br />These characters are not quirky, they are mentally ill. The things that happen are not funny, they are disturbing; especially considering they are supposed to be true.<br /><br />This movie had the feel of The Royal Tenenbaums, another movie I hated, only Running With Scissors was even more dysfunctional and less funny.<br /><br />I will never get those hours back. I wanted to wash my brain after watching.\"\n",
      "Round-trip:  i am a big movie fan i like movies of all types this is arguably the worst movie ive ever seen i get that it follows the book closely which raises the point that not everything should be made into a movie especially since the authenticity of the experiences in the book have been called into question more than once these characters are not quirky they are mentally ill the things that happen are not funny they are disturbing especially considering they are supposed to be true this movie had the feel of the royal [UNK] another movie i hated only running with [UNK] was even more dysfunctional and less funny i will never get those hours back i wanted to wash my brain after watching                                                                                                                            \n",
      "\n",
      "Original:  b'As a grownup in my mid-40s, I am not even close to any of \"Nancy Drew\"\\'s key demographics, but I was pleasantly surprised by the film this afternoon; so, I could tell, were the pair of sixtyish silver-haired ladies down the row from me. The older man who left the theater just ahead of me specifically praised the film to the 20-ish female usher (who said she\\'d seen the film the previous evening and quite liked it).<br /><br />More to the point, however: In the row just ahead of me, there were nine -- count them, nine -- ten-year-old girls lined up next to each other, passing popcorn and hot dogs and candy back and forth and giggling through the previews.<br /><br />Once the film began, they promptly settled down to watch....<br /><br />....and didn\\'t so much as peep till the closing credits began to roll.<br /><br />This is not a perfect film; it doesn\\'t quite pay off its high school subplots, it\\'s not quite confident enough of its own tone, and its thugs are just a hair too far over toward critically inept at times. But the adaptation of the source material is essentially respectful, the plot hangs together fairly well, and it treads deftly between the sins of excessive cheesiness and excessive modernization. Last but not least, Emma Roberts carries the movie with startling grace -- Josh Flitter\\'s superb timing notwithstanding, this is Roberts\\' movie, and she pulls it off beautifully. Her Nancy Drew is very much the direct ancestor of Kristen Bell\\'s Veronica Mars, and the film is also a lineal descendant of Jodie Foster\\'s early and underrated \"Candleshoe\".<br /><br />In today\\'s marketplace, it\\'s a rarity: a family movie that respects its viewers\\' intelligence. As such, it won\\'t be to everyone\\'s taste -- but for what it is, it is the best movie of its kind in decades.'\n",
      "Round-trip:  as a [UNK] in my [UNK] i am not even close to any of nancy [UNK] key [UNK] but i was pleasantly surprised by the film this afternoon so i could tell were the pair of [UNK] [UNK] ladies down the row from me the older man who left the theater just ahead of me specifically praised the film to the [UNK] female [UNK] who said shed seen the film the previous evening and quite liked it more to the point however in the row just ahead of me there were nine count them nine [UNK] girls [UNK] up next to each other passing popcorn and hot dogs and candy back and forth and [UNK] through the previews once the film began they promptly settled down to watch and didnt so much as [UNK] till the closing credits began to roll this is not a perfect film it doesnt quite pay off its high school subplots its not quite confident enough of its own tone and its thugs are just a hair too far over toward [UNK] inept at times but the adaptation of the source material is essentially [UNK] the plot hangs together fairly well and it [UNK] [UNK] between the sins of excessive cheesiness and excessive [UNK] last but not least emma roberts carries the movie with startling grace josh [UNK] superb timing notwithstanding this is roberts movie and she pulls it off beautifully her nancy drew is very much the direct [UNK] of [UNK] [UNK] [UNK] mars\n",
      "\n"
     ]
    }
   ],
   "source": [
    "encoded_example = vectorize_layer(text_batch)[:3].numpy()\n",
    "for n in range(2):\n",
    "  print(\"Original: \", text_batch[n].numpy())\n",
    "  print(\"Round-trip: \", \" \".join(vocab[encoded_example[n]]))\n",
    "  print()\n"
   ]
  },
  {
   "cell_type": "code",
   "execution_count": 24,
   "metadata": {},
   "outputs": [],
   "source": [
    "AUTOTUNE = tf.data.AUTOTUNE\n",
    "\n",
    "train_ds = train_ds.cache().prefetch(buffer_size=AUTOTUNE)\n",
    "val_ds = val_ds.cache().prefetch(buffer_size=AUTOTUNE)\n",
    "test_ds = test_ds.cache().prefetch(buffer_size=AUTOTUNE)\n"
   ]
  },
  {
   "cell_type": "code",
   "execution_count": 25,
   "metadata": {},
   "outputs": [
    {
     "name": "stdout",
     "output_type": "stream",
     "text": [
      "Model: \"sequential\"\n",
      "_________________________________________________________________\n",
      " Layer (type)                Output Shape              Param #   \n",
      "=================================================================\n",
      " text_vectorization (TextVec  (None, 250)              0         \n",
      " torization)                                                     \n",
      "                                                                 \n",
      " embedding (Embedding)       (None, 250, 16)           160016    \n",
      "                                                                 \n",
      " dropout (Dropout)           (None, 250, 16)           0         \n",
      "                                                                 \n",
      " global_average_pooling1d (G  (None, 16)               0         \n",
      " lobalAveragePooling1D)                                          \n",
      "                                                                 \n",
      " dropout_1 (Dropout)         (None, 16)                0         \n",
      "                                                                 \n",
      " dense (Dense)               (None, 1)                 17        \n",
      "                                                                 \n",
      "=================================================================\n",
      "Total params: 160,033\n",
      "Trainable params: 160,033\n",
      "Non-trainable params: 0\n",
      "_________________________________________________________________\n"
     ]
    }
   ],
   "source": [
    "embedding_dim = 16\n",
    "\n",
    "model = tf.keras.Sequential([\n",
    "    vectorize_layer,\n",
    "    tf.keras.layers.Embedding(max_features + 1, embedding_dim),\n",
    "    tf.keras.layers.Dropout(0.2),\n",
    "    tf.keras.layers.GlobalAveragePooling1D(),\n",
    "    tf.keras.layers.Dropout(0.2),\n",
    "    tf.keras.layers.Dense(1)])\n",
    "\n",
    "model.summary()\n"
   ]
  },
  {
   "cell_type": "code",
   "execution_count": 26,
   "metadata": {},
   "outputs": [
    {
     "name": "stdout",
     "output_type": "stream",
     "text": [
      "Epoch 1/10\n",
      "625/625 [==============================] - 3s 4ms/step - loss: 0.6636 - binary_accuracy: 0.7016 - val_loss: 0.6133 - val_binary_accuracy: 0.7730\n",
      "Epoch 2/10\n",
      "625/625 [==============================] - 2s 4ms/step - loss: 0.5480 - binary_accuracy: 0.8015 - val_loss: 0.4971 - val_binary_accuracy: 0.8202\n",
      "Epoch 3/10\n",
      "625/625 [==============================] - 2s 4ms/step - loss: 0.4438 - binary_accuracy: 0.8453 - val_loss: 0.4210 - val_binary_accuracy: 0.8454\n",
      "Epoch 4/10\n",
      "625/625 [==============================] - 2s 4ms/step - loss: 0.3770 - binary_accuracy: 0.8669 - val_loss: 0.3765 - val_binary_accuracy: 0.8572\n",
      "Epoch 5/10\n",
      "625/625 [==============================] - 2s 4ms/step - loss: 0.3346 - binary_accuracy: 0.8784 - val_loss: 0.3489 - val_binary_accuracy: 0.8650\n",
      "Epoch 6/10\n",
      "625/625 [==============================] - 2s 4ms/step - loss: 0.3041 - binary_accuracy: 0.8907 - val_loss: 0.3303 - val_binary_accuracy: 0.8696\n",
      "Epoch 7/10\n",
      "625/625 [==============================] - 2s 4ms/step - loss: 0.2814 - binary_accuracy: 0.8978 - val_loss: 0.3176 - val_binary_accuracy: 0.8738\n",
      "Epoch 8/10\n",
      "625/625 [==============================] - 2s 4ms/step - loss: 0.2608 - binary_accuracy: 0.9034 - val_loss: 0.3079 - val_binary_accuracy: 0.8760\n",
      "Epoch 9/10\n",
      "625/625 [==============================] - 2s 4ms/step - loss: 0.2448 - binary_accuracy: 0.9100 - val_loss: 0.3016 - val_binary_accuracy: 0.8796\n",
      "Epoch 10/10\n",
      "625/625 [==============================] - 2s 4ms/step - loss: 0.2312 - binary_accuracy: 0.9162 - val_loss: 0.2967 - val_binary_accuracy: 0.8814\n"
     ]
    }
   ],
   "source": [
    "\n",
    "# Choosing the tf.keras.optimizers.Adam with \n",
    "# the tf.keras.losses.BinaryCrossentropy loss function and\n",
    "# the tf.metrics.BinaryAccuracy as metric\n",
    "\n",
    "model.compile(\n",
    "  optimizer='adam',\n",
    "  loss=tf.keras.losses.BinaryCrossentropy(from_logits=True),\n",
    "  metrics=tf.metrics.BinaryAccuracy(threshold=0.0))\n",
    "\n",
    "# Finally fitting the model to the data in train_ds \n",
    "# with val_ds as the validation dataset\n",
    "# running for 10 epochs\n",
    "\n",
    "history = model.fit(\n",
    "  train_ds,\n",
    "  validation_data=val_ds,\n",
    "  epochs=epochs\n",
    ")"
   ]
  },
  {
   "cell_type": "code",
   "execution_count": 27,
   "metadata": {},
   "outputs": [
    {
     "name": "stdout",
     "output_type": "stream",
     "text": [
      "782/782 [==============================] - 2s 2ms/step - loss: 0.3099 - binary_accuracy: 0.8726\n",
      "Loss:  0.3098743259906769\n",
      "Accuracy:  0.8726400136947632\n"
     ]
    }
   ],
   "source": [
    "loss, accuracy = model.evaluate(test_ds)\n",
    "\n",
    "print(\"Loss: \", loss)\n",
    "print(\"Accuracy: \", accuracy)\n"
   ]
  },
  {
   "cell_type": "code",
   "execution_count": 28,
   "metadata": {},
   "outputs": [
    {
     "data": {
      "image/png": "[encoded data removed]",
      "text/plain": [
       "<Figure size 576x576 with 2 Axes>"
      ]
     },
     "metadata": {
      "needs_background": "light"
     },
     "output_type": "display_data"
    }
   ],
   "source": [
    "acc = history.history['binary_accuracy']\n",
    "val_acc = history.history['val_binary_accuracy']\n",
    "\n",
    "loss = history.history['loss']\n",
    "val_loss = history.history['val_loss']\n",
    "\n",
    "epochs_range = range(epochs)\n",
    "\n",
    "plt.figure(figsize=(8, 8))\n",
    "plt.subplot(1, 2, 1)\n",
    "plt.plot(epochs_range, acc, label='Training Accuracy')\n",
    "plt.plot(epochs_range, val_acc, label='Validation Accuracy')\n",
    "plt.legend(loc='lower right')\n",
    "plt.title('Training and Validation Accuracy')\n",
    "\n",
    "plt.subplot(1, 2, 2)\n",
    "plt.plot(epochs_range, loss, label='Training Loss')\n",
    "plt.plot(epochs_range, val_loss, label='Validation Loss')\n",
    "plt.legend(loc='upper right')\n",
    "plt.title('Training and Validation Loss')\n",
    "plt.show()\n"
   ]
  },
  {
   "cell_type": "code",
   "execution_count": 29,
   "metadata": {},
   "outputs": [
    {
     "name": "stdout",
     "output_type": "stream",
     "text": [
      "157/157 [==============================] - 0s 2ms/step\n"
     ]
    },
    {
     "data": {
      "text/plain": [
       "(array([1357.,  390.,  258.,  212.,  193.,  180.,  219.,  294.,  439.,\n",
       "        1458.]),\n",
       " array([2.2010074e-06, 9.9999681e-02, 1.9999716e-01, 2.9999465e-01,\n",
       "        3.9999211e-01, 4.9998960e-01, 5.9998709e-01, 6.9998455e-01,\n",
       "        7.9998201e-01, 8.9997953e-01, 9.9997699e-01], dtype=float32),\n",
       " <BarContainer object of 10 artists>)"
      ]
     },
     "execution_count": 29,
     "metadata": {},
     "output_type": "execute_result"
    },
    {
     "data": {
      "image/png": "[encoded data removed]",
      "text/plain": [
       "<Figure size 432x288 with 1 Axes>"
      ]
     },
     "metadata": {
      "needs_background": "light"
     },
     "output_type": "display_data"
    }
   ],
   "source": [
    "predictions = model.predict(val_ds, verbose=1)\n",
    "\n",
    "predictions = tf.squeeze(predictions)\n",
    "\n",
    "predictions = tf.math.sigmoid(predictions)\n",
    "\n",
    "plt.hist(predictions.numpy())"
   ]
  },
  {
   "cell_type": "code",
   "execution_count": 30,
   "metadata": {},
   "outputs": [],
   "source": [
    "def getItemsFromDataset(dataset):\n",
    "    items = np.asarray([i for x,y in dataset for i in x.numpy()])\n",
    "    labels = np.asarray([i for x,y in dataset for i in y.numpy()])\n",
    "    return items, labels"
   ]
  },
  {
   "cell_type": "code",
   "execution_count": 31,
   "metadata": {},
   "outputs": [],
   "source": [
    "test_texts, test_labels = getItemsFromDataset(val_ds)"
   ]
  },
  {
   "cell_type": "code",
   "execution_count": 38,
   "metadata": {},
   "outputs": [],
   "source": [
    "true_predictions = tf.equal(tf.round(predictions),tf.convert_to_tensor(test_labels, dtype=tf.float32)).numpy()"
   ]
  },
  {
   "cell_type": "code",
   "execution_count": 44,
   "metadata": {},
   "outputs": [
    {
     "name": "stdout",
     "output_type": "stream",
     "text": [
      "Positive with 0.7326981425285339% : b\"A few years back the same persons who created Paris,J'TAIME., which was imperfect but very enjoyable ( my rating was a 7), created this piece of garbage about New York City.<br /><br />In Paris, I Love You (J'taime)created a feeling for Paris & it was made in many parts of beautiful Paris.<br /><br />In this current film, I did not recognize New York City, I did not feel that I was in the city of my birth.<br /><br />New York does have 5 boroughs,I saw no scenes in The Bronx, or Queens ,There is one scene in Brooklyn,(Brighton Beach), I saw no scenes in Times Square or Greenwich Village/ No scenes of the beautiful hotels or theatres. It does have a large cast,most of the performers were not even stereotypes, they were caricatures of the lowest sort.<br /><br />The very few humorous moments are all of a course sexual nature or quite insulting to the many fine New Yorkers that we all know & love.. <br /><br />A few of the films nominated for the 'razzie' awards were far better.<br /><br />Ratings: * (out of 4) 20 points (out of 100) IMDb 1 (Out of 10)<br /><br />In my way of thinking I think the title should have been<br /><br />NEW YORK, I HATE YOU.\"\n",
      "\n",
      "Positive with 0.15611526370048523% : b\"Before 'Zavet' there was similarity between Tim Burton and Kusturica artistic vision. They find their own, poetic style, and then they cowardly become prisoners of it. Burton has (and still have) Depp, Kusturica has Miki Manojlovic, and somehow they got critical praise for repeating same formula over and over again. However, there are persons like me who find joke funny only when they heard it first time. That's main reason why Kusturica's worst movies are 'Black cat white cat' and 'Life is miracle'. 'Zavet' is something completely different. You may like it, you may hate it, but this is NOT just another Kusturica poetic \\xc2\\x96 Balkanic dreamlike stuff. Of course, if you want to be praised, you have to play safe. It was very easy for Kusturica to make just another flying gypsies movie and get award. Fortunately, as a brave person he chooses to make movie that will be ironic look to his previous works. 'Zavet' can be described as a strong and very harsh parody on previous Kusturica movies directed by Kusturica himself. It is beautiful to see one big movie director to not take himself too seriously. This is quality that Kusturica have and even the biggest, like Bergman or Kubrick, didn't have. This movie is so meaningless that becomes absurd, so absurd that becomes deep, and so unfunny that becomes hilarious. Same stuff that make 'Plan 9 from outer space' cult would made this masterpiece to people who knows how to watch it. Average western viewer would not get few references. Most notable, tire shop owner is Srbljanovic , and this refers to Biljana Srbljanovic, famous Serbian dramatic writer. Politically, she is very active as left oriented liberal, and she despises Kusturica's political views and anarchism. Kusturica's 'everything but not subtle' take to her work was to castrate Miki Manojlovic in Srbljanovic shop. Second reference is made to Goran Bregovic \\xc2\\x96 previous Kusturica's composer. He formed 'Funeral and wedding orchestra' and start performing around Europe. Although he is praised as big composer, Bregovic is just performer and most of his songs (if not all) are poor covers of traditional Serbian songs. Kusturica's take on Bregovic was to confront one wedding and one funeral, with funeral mocking the wedding. Also, music is covering western classics as 'London Bridge is falling down' or French lullabies. You find this unfunny? Now you see how we feel in Serbia when listening Bregovic's horrible covers. I really liked this movie because it is not pretending to be deep, it is so overfilled with symbols that it becomes parody, and it is beautifully directed, as all of his works are. If you like previous Kusturica's movies, there is a big chance that you will hate this. If you don't like couple of his last movies, you may find this as pleasant surprise, because this is like Fellini directing 'Pink Flamingos'. On purpose. I have massive respect for this guy after 'Zavet'. Next Tim Burton movie would surely have main character with pale faces. Next Kusturica movies can easily be about aliens invading Earth. That's the reason why he is most interesting director on Earth, whether you like it or not.\"\n",
      "\n",
      "Positive with 0.5734068751335144% : b\"I came into this movie really wanting to line it. I thought the premise had a lot of potential and was ripe for an interesting movie. Don't get me wrong here, I wasn't expecting Citizen Kane, I was taking this for the B movie that it is. That said, it still fell short of the expectation. The historical aspect of the story is glazed over and the ending left me a bit cold. The acting in the movie was very wooden. All in all I give it 4 for a great idea, but the movie could have scored much higher with a bit more attention to movie making fundamentals. Is it worth seeing? I didn't wish for my two hours back, but I don't know that I'd recommend it to others.\"\n",
      "\n",
      "Positive with 0.4589684307575226% : b'In this \"critically acclaimed psychological thriller based on true events, Gabriel (Robin Williams), a celebrated writer and late-night talk show host, becomes captivated by the harrowing story of a young listener and his adoptive mother (Toni Collette). When troubling questions arise about this boy\\'s (story), however, Gabriel finds himself drawn into a widening mystery that hides a deadly secret\\xc2\\x85\" according to film\\'s official synopsis.<br /><br />You really should STOP reading these comments, and watch the film NOW...<br /><br />The \"How did he lose his leg?\" ending, with Ms. Collette planning her new life, should be chopped off, and sent to \"deleted scenes\" land. It\\'s overkill. The true nature of her physical and mental ailments should be obvious, by the time Mr. Williams returns to New York. Possibly, her blindness could be in question - but a revelation could have be made certain in either the \"highway\" or \"video tape\" scenes. The film would benefit from a re-editing - how about a \"director\\'s cut\"? <br /><br />Williams and Bobby Cannavale (as Jess) don\\'t seem, initially, believable as a couple. A scene or two establishing their relationship might have helped set the stage. Otherwise, the cast is exemplary. Williams offers an exceptionally strong characterization, and not a \"gay impersonation\". Sandra Oh (as Anna), Joe Morton (as Ashe), and Rory Culkin (Pete Logand) are all perfect.<br /><br />Best of all, Collette\\'s \"Donna\" belongs in the creepy hall of fame. Ms. Oh is correct in saying Collette might be, \"you know, like that guy from \\'Psycho\\'.\" There have been several years when organizations giving acting awards seemed to reach for women, due to a slighter dispersion of roles; certainly, they could have noticed Collette with some award consideration. She is that good. And, director Patrick Stettner definitely evokes Hitchcock - he even makes getting a sandwich from a vending machine suspenseful.<br /><br />Finally, writers Stettner, Armistead Maupin, and Terry Anderson deserve gratitude from flight attendants everywhere.<br /><br />******* The Night Listener (1/21/06) Patrick Stettner ~ Robin Williams, Toni Collette, Sandra Oh, Rory Culkin'\n",
      "\n",
      "Positive with 0.7294672131538391% : b'The beginning of the 90s brought many \"quirky\" and \"off-beat\" independent films, a particular sub-genre of which is the semi-spiritual desert crime movie. Others of note are \"Wild at Heart\", \"From Dusk Til Dawn\", and to a certain extent \"Natural Born Killers\". Good films like those spawned junk like \"Highway 666\", \"Destiny Turns on the Radio\" and this ineptly surreal anti-masterpiece \"Under The Hula Moon\". It\\'s a comedy that aims for a certain emotional tone, attains it, but keeps going to the point of irritation. While the pursuit across the spirit-world of the desert and the casting of Chris Penn are good ideas, the film is not dirty enough or hard enough to be a good crime movie, and isn\\'t focused enough on laughs to really be a comedy. I won\\'t blow the ending, but let\\'s just say it\\'s bad. The film is basically a bad side effect of genre-cancer. This is the dregs of indie-mania.'\n",
      "\n",
      "Positive with 0.896526575088501% : b'Unusual? Yes!<br /><br />Unusual setting for an American wartime movie, New Zealand.<br /><br />Unusual subject matter, four sisters and their relationships with American soldiers, from one bearing the illegitimate child of the dead son of a Senator, to another living with seven Marines (one at a time) before being murdered by her returning POW New Zealander husband.<br /><br />Unusual to see Paul Newman deliver such a poor performance so soon after his unforgettable role as Rocky Graziano in the brilliant \"Somebody Up There Loves Me\".<br /><br />Unusual for two fine \"Stars\" Joan Fontaine and Jean Simmons, to leave so little of themselves on a movie.<br /><br />Unusual that I could be bothered to write a review of such a poor film, give it a miss!'\n",
      "\n"
     ]
    }
   ],
   "source": [
    "count = 0\n",
    "for index, val in enumerate(true_predictions):\n",
    "    if not val:\n",
    "        print(f\"Positive with {predictions[index]}% :\", test_texts[index])\n",
    "        print()\n",
    "        count += 1\n",
    "        if count > 5:\n",
    "            break"
   ]
  },
  {
   "cell_type": "code",
   "execution_count": null,
   "metadata": {},
   "outputs": [],
   "source": []
  }
 ],
 "metadata": {
  "interpreter": {
   "hash": "f9126c580136e844750d70a450fac330b913d7a9fde66507f6d403cd4e745ffa"
  },
  "kernelspec": {
   "display_name": "Python 3.8.10 64-bit ('tf-gpu-venv': venv)",
   "language": "python",
   "name": "python3"
  },
  "language_info": {
   "codemirror_mode": {
    "name": "ipython",
    "version": 3
   },
   "file_extension": ".py",
   "mimetype": "text/x-python",
   "name": "python",
   "nbconvert_exporter": "python",
   "pygments_lexer": "ipython3",
   "version": "3.8.10"
  },
  "orig_nbformat": 4
 },
 "nbformat": 4,
 "nbformat_minor": 2
}
